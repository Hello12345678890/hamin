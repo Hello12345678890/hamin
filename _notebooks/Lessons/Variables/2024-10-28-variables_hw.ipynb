{
 "cells": [
  {
   "cell_type": "markdown",
   "metadata": {},
   "source": [
    "# <span style=\"color: lavender; text-shadow: 2px 2px 5px lavender;\">Variables Homework (Show what you know!) </span>\n",
    "\n",
    "### Homework Problem: Understanding JavaScript Variables \n",
    "\n",
    "### <span style=\"color: pink; text-shadow: 2px 2px 5px pink;\"> Creating Variables</span>\n",
    "\n",
    "\n",
    "1. **Create three variables as an object variable**:\n",
    "   - A variable called `studentName` that stores your name as a string.\n",
    "   - A variable called `age` that stores your age as a number.\n",
    "   - A variable called `isStudent` that stores a boolean value indicating whether you are a student (use `true` or `false`).\n",
    "\n",
    "   2. **Create a function variable that displays that your favorite song is playing**:\n",
    "   \n",
    "      - A variable called `favoriteSong` that stores the name of your favorite song.\n",
    "      - A variable called `songArtist` that stores the song's artist.\n",
    "      - A function called `playFavoriteSong` that logs a message saying \"Now playing [favoriteSong] by [songArtist]\".\n",
    "\n",
    "\n",
    "\n",
    "3. **Using the variables you created**, write a sentence using `console.log()` to display:\n",
    "   - Your name.\n",
    "   - Your age.\n",
    "   - Whether you are a student.\n",
    "   - An output that states that your favorite song is now playing\n",
    "\n",
    "\n",
    "   Example output:\n",
    "My name is [Your Name], I am [Your Age] years old, and it is [true/false] that I am a student. \n",
    "Now playing Champion by Kanye West"
   ]
  },
  {
   "cell_type": "code",
   "execution_count": 10,
   "metadata": {},
   "outputs": [
    {
     "name": "stdout",
     "output_type": "stream",
     "text": [
      "My name is Hamin Park and I am 14 years old, and it is True that I am a student.\n",
      "Now playing: Let Me Hear by Fear, and Loathing in Las Vegas\n"
     ]
    }
   ],
   "source": [
    "\n",
    "student_name = \"Hamin Park\"\n",
    "age = 14\n",
    "is_student = True\n",
    "\n",
    "favorite_song = \"Let Me Hear\"\n",
    "song_artist =  \"Fear, and Loathing in Las Vegas\"\n",
    "\n",
    "# Function to play Favorite song\n",
    "def play_favorite_song(favorite_song, song_artist):\n",
    "    print(f\"Now playing: {favorite_song} by {song_artist}\")\n",
    "\n",
    "# Display variable values in a formatted string\n",
    "print(f\"My name is {student_name} and I am {age} years old, and it is {is_student} that I am a student.\")\n",
    "play_favorite_song(favorite_song, song_artist)\n",
    "\n",
    "# Function to display student info\n",
    "def display_student_info():\n",
    "    print(f\"My name is {student_name} and I am {age} years old, and is it {is_student} that I am a student.\")\n",
    "    play_favorite_song(favorite_song, song_artist)\n",
    "\n",
    "    # Example usage\n",
    "    display_student_info()"
   ]
  }
 ],
 "metadata": {
  "kernelspec": {
   "display_name": "venv",
   "language": "python",
   "name": "python3"
  },
  "language_info": {
   "codemirror_mode": {
    "name": "ipython",
    "version": 3
   },
   "file_extension": ".py",
   "mimetype": "text/x-python",
   "name": "python",
   "nbconvert_exporter": "python",
   "pygments_lexer": "ipython3",
   "version": "3.10.12"
  }
 },
 "nbformat": 4,
 "nbformat_minor": 2
}
