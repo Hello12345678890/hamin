{
 "cells": [
  {
   "cell_type": "code",
   "execution_count": null,
   "metadata": {},
   "outputs": [],
   "source": [
    "---\n",
    "comments: true\n",
    "layout: post\n",
    "title: JavaScript Classes & Methods Homework\n",
    "description: The JavaScript Classes & Methods Homework assignment for the JavaScript Fundamentals course.\n",
    "author: Hamin Park\n",
    "permalink: /csse/javascript/fundamentals/classes/hw/\n",
    "categories: [JavaScript Fundamentals]\n",
    "---"
   ]
  },
  {
   "cell_type": "markdown",
   "metadata": {},
   "source": [
    "# Classes & Methods Homework\n",
    "****"
   ]
  },
  {
   "cell_type": "markdown",
   "metadata": {},
   "source": [
    "## Homework!\n",
    "\n",
    "As you read through this, notice the new content introduced. We encourage you to do your own research (this can be Google, ChatGPT, documentation, etc.). Here, we introduce the `_` property (memory safety), `extends` keyword, and `super()` method.\n",
    "\n",
    "To complete the homework, implement the `TODO:` comments. The example usage should guide you and work if all implementation is done correctly. Have fun! \n",
    "\n",
    "*If anything simply cannot go wrong, it will anyway.*"
   ]
  },
  {
   "cell_type": "code",
   "execution_count": 25,
   "metadata": {
    "vscode": {
     "languageId": "javascript"
    }
   },
   "outputs": [
    {
     "data": {
      "application/javascript": "\nclass Vehicle {\n    // Constructor\n    constructor(model, capacity, range, terrain) {\n        this._model = model; // model of vehicle\n        this._capacity = capacity; // number of people\n        this._range = range; // range on one tank of fuel\n        this._terrain = terrain; // air, ground, water\n    }\n    // Gets vehicle model\n    getModel() {\n        return this._model;\n    }\n    // Change vehicle model\n    setModel(newModel) {\n        this._model = newModel;\n    }\n    // Get vehicle capacity\n    getCapacity() {\n        return this._capacity;\n    }\n    // Change vehicle capacity\n    setCapacity(newCapacity) {\n        this._capacity = newCapacity;\n    }\n    // Get vehicle range on a full tank\n    getRange() {\n        return this._range;\n    }\n    // Change range\n    setRange(newRange) {\n        this._range = newRange;\n    }\n    // Gets terrain type\n    getTerrain() {\n        return this._terrain;\n    }\n    // Returns vehicle details\n    displayDetails() {\n        return `Model: ${this._model}, Capacity: ${this._capacity}, Range: ${this._range} km, Terrain: ${this._terrain}`;\n    }\n    // Compares ranges between two vehicles\n    static compareRange(vehicle1, vehicle2) {\n        return vehicle1._range - vehicle2._range;\n    }\n}\n\nclass FighterJet extends Vehicle {\n    constructor(model, capacity, range, speed) {\n        super(model, capacity, range, \"air\");\n        this._speed = speed;\n    }\n\n    getSpeed() {\n        return this._speed;\n    }\n\n    setSpeed(newSpeed) {\n        this._speed = newSpeed;\n    }\n\n    displayDetails() {\n        return `Model: ${this._model}, Capacity: ${this._capacity}, Range: ${this._range} km, Speed: ${this._speed} km/h, Terrain: ${this._terrain}`;\n    }\n}\n\nclass Boat extends Vehicle {\n    constructor(model, capacity, range, speed) {\n        super(model, capacity, range, \"water\");\n        this._speed = speed;\n    }\n\n    displayDetails() {\n        return `Model: ${this._model}, Capacity: ${this._capacity}, Range: ${this._range} km, Speed: ${this._speed} km/h, Terrain: ${this._terrain}`;\n    }\n}\n\nclass Car extends Vehicle {\n    constructor(model, capacity, range, speed) {\n        super(model, capacity, range, \"land\");\n        this._speed = speed;\n    }\n\n    displayDetails() {\n        return `Model: ${this._model}, Capacity: ${this._capacity}, Range: ${this._range} km, Speed: ${this._speed} km/h, Terrain: ${this._terrain}`;\n    }\n}\n\n// Jets\nlet f16 = new FighterJet('F-16', 1, 4220, 2400);\nlet f22 = new FighterJet('F-22', 1, 2960, 2410);\nconsole.log(f16.displayDetails());\nconsole.log(f22.displayDetails());\n\n// Boats\nlet MultiBoat = new Boat(\"Multi-Hull Power Boat\", 8, 500, 60);\nlet SigmaBoat = new Boat(\"Sigma 21\", 21, 50000, 6000);\nconsole.log(MultiBoat.displayDetails());\nconsole.log(SigmaBoat.displayDetails());\n\n// Cars\nlet ford_F_150 = new Car(\"Ford f-150\", 6, 1000, 140);\nlet lightning = new Car(\"Lightning McQueen\", 1, 1000, 300);\nconsole.log(ford_F_150.displayDetails());\nconsole.log(lightning.displayDetails());\n",
      "text/plain": [
       "<IPython.core.display.Javascript object>"
      ]
     },
     "metadata": {},
     "output_type": "display_data"
    }
   ],
   "source": [
    "%%js\n",
    "\n",
    "class Vehicle {\n",
    "    // Constructor\n",
    "    constructor(model, capacity, range, terrain) {\n",
    "        this._model = model; // model of vehicle\n",
    "        this._capacity = capacity; // number of people\n",
    "        this._range = range; // range on one tank of fuel\n",
    "        this._terrain = terrain; // air, ground, water\n",
    "    }\n",
    "    // Gets vehicle model\n",
    "    getModel() {\n",
    "        return this._model;\n",
    "    }\n",
    "    // Change vehicle model\n",
    "    setModel(newModel) {\n",
    "        this._model = newModel;\n",
    "    }\n",
    "    // Get vehicle capacity\n",
    "    getCapacity() {\n",
    "        return this._capacity;\n",
    "    }\n",
    "    // Change vehicle capacity\n",
    "    setCapacity(newCapacity) {\n",
    "        this._capacity = newCapacity;\n",
    "    }\n",
    "    // Get vehicle range on a full tank\n",
    "    getRange() {\n",
    "        return this._range;\n",
    "    }\n",
    "    // Change range\n",
    "    setRange(newRange) {\n",
    "        this._range = newRange;\n",
    "    }\n",
    "    // Gets terrain type\n",
    "    getTerrain() {\n",
    "        return this._terrain;\n",
    "    }\n",
    "    // Returns vehicle details\n",
    "    displayDetails() {\n",
    "        return `Model: ${this._model}, Capacity: ${this._capacity}, Range: ${this._range} km, Terrain: ${this._terrain}`;\n",
    "    }\n",
    "    // Compares ranges between two vehicles\n",
    "    static compareRange(vehicle1, vehicle2) {\n",
    "        return vehicle1._range - vehicle2._range;\n",
    "    }\n",
    "}\n",
    "\n",
    "class FighterJet extends Vehicle {\n",
    "    constructor(model, capacity, range, speed) {\n",
    "        super(model, capacity, range, \"air\");\n",
    "        this._speed = speed;\n",
    "    }\n",
    "\n",
    "    getSpeed() {\n",
    "        return this._speed;\n",
    "    }\n",
    "\n",
    "    setSpeed(newSpeed) {\n",
    "        this._speed = newSpeed;\n",
    "    }\n",
    "\n",
    "    displayDetails() {\n",
    "        return `Model: ${this._model}, Capacity: ${this._capacity}, Range: ${this._range} km, Speed: ${this._speed} km/h, Terrain: ${this._terrain}`;\n",
    "    }\n",
    "}\n",
    "\n",
    "class Boat extends Vehicle {\n",
    "    constructor(model, capacity, range, speed) {\n",
    "        super(model, capacity, range, \"water\");\
