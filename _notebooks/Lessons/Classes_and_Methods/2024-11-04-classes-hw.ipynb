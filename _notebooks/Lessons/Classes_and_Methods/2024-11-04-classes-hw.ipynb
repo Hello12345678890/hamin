---
comments: true
layout: post
title: JavaScript Classes & Methods Homework
description: The JavaScript Classes & Methods Homework assignment for the JavaScript Fundamentals course.
author: Lucas Masterson
permalink: /csse/javascript/fundamentals/classes/hw/
categories: [CSSE JavaScript Fundamentals]
---
# Classes & Methods Homework
****

## Homework!

As you read through this, notice the new content introduced. We encourage you to do your own research (this can be Google, ChatGPT, documentation, etc.). Here, we introduce the `_` property (memory safety), `extends` keyword, and `super()` method.

To complete the homework, implement the `TODO:` comments. The example usage should guide you and work if all implementation is done correctly. Have fun! 

*If anything simply cannot go wrong, it will anyway.*
%%js

class Aircraft {
    // Constructor
    constructor(model, capacity, range) {
        this._model = model; // _model is a convention to indicate that it's a private property
        this._capacity = capacity; // _capacity is a convention to indicate that it's a private property
        this._range = range; // _range is a convention to indicate that it's a private property
    }

    // Getter for model
    get model() {
        return this._model;
    }

    // Setter for model
    set model(newModel) {
        this._model = newModel;
    }

    // Getter for capacity
    get capacity() {
        return this._capacity;
    }

    // Setter for capacity
    set capacity(newCapacity) {
        this._capacity = newCapacity;
    }

    // Getter for range
    get range() {
        // TODO: Return the range value of the aircraft
        return this._range;  // This will return the private _range property
    }

    // Setter for range
    set range(newRange) {
        // TODO: Set the range value of the aircraft
        this._range = newRange;  // This will update the private _range property
    }

    // Method to display aircraft details
    displayDetails() {
        // TODO: Display a message with model, capacity, and range
        return `Model: ${this._model}, Capacity: ${this._capacity}, Range: ${this._range} km`;
    }

    // Static method to compare range
    static compareRange(aircraft1, aircraft2) {
        // This method compares the range of two aircraft and returns the difference
        return aircraft1.range - aircraft2.range;
    }
}

// Example usage
let boeing = new Aircraft('Boeing 747', 416, 13800);
let airbus = new Aircraft('Airbus A380', 853, 15700);

console.log(boeing.displayDetails());
console.log(airbus.displayDetails());
console.log(`Range difference: ${Aircraft.compareRange(boeing, airbus)} km`);

// New content in the HW! Lo and behold, the FighterJet class! 
// For 1) do research. What does the extend keyword do in JavaScript?
// Here's a quick rundown if you're in a hurry: 
// the extends keyword creates a child class (FighterJet) that inherits from a parent class (Aircraft).
class FighterJet extends Aircraft {
    constructor(model, capacity, range, speed) {
        super(model, capacity, range); // We call the parent class constructor with super
        this._speed = speed; // Add speed property for FighterJet
    }

    // TODO: Getter for speed
    get speed() {
        // TODO: Return the speed value of the fighter jet
        return this._speed; // This will return the private _speed property
    }

    // TODO: Setter for speed
    set speed(newSpeed) {
        // TODO: Set the speed value of the fighter jet
        this._speed = newSpeed; // This will update the private _speed property
    }

    // TODO: Method to display fighter jet details (model, capacity, range, speed)
    displayDetails() {
        // TODO: Display a message with model, capacity, range, and speed of the fighter jet
        return `Model: ${this._model}, Capacity: ${this._capacity}, Range: ${this._range} km, Speed: ${this._speed} km/h`;
    }
}

// Example usage
let f16 = new FighterJet('F-16', 1, 4220, 2400);
let f22 = new FighterJet('F-22', 1, 2960, 2410);

console.log(f16.displayDetails());
console.log(f22.displayDetails());
console.log(`Range difference: ${Aircraft.compareRange(f16, f22)} km`);
